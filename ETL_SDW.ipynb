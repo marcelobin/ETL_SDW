{
 "cells": [
  {
   "cell_type": "markdown",
   "id": "ec92f976-2846-4291-8c3c-6510ac3974a2",
   "metadata": {},
   "source": [
    "# **Santander Dev Week 2023 (ETL com Python)**"
   ]
  },
  {
   "cell_type": "markdown",
   "id": "aa0e5a68-ab7a-498f-aa73-bcd913496fa7",
   "metadata": {},
   "source": [
    "## **Contexto** \n",
    "\n",
    "Você é um cientista de dados no Santander e recebeu a tarefa de envolver seus clientes de maneira mais personalizada.\n",
    "\n",
    "Seu objetivo é usar o poder da IA Generativa para criar mensagens de marketing personalizadas que serão entregues a cada cliente."
   ]
  },
  {
   "cell_type": "markdown",
   "id": "79fc128d-ebec-4a4c-ab7a-978733089031",
   "metadata": {},
   "source": [
    "## **O que será feito?**\n",
    "\n",
    "Para este desafio criaremos um processo de ETL (Extract, Transform, Load).\n",
    "\n",
    "* Na primeira etapa (**Extract**) utilizaremos a API ('https://sdw-2023-prd.up.railway.app') disponibilizada no desafio para carregar todos os usuários disponíveis. Por se tratar de uma apresentação do projetos, selecionaremos apenas três clientes para aplicarmos.\n",
    "\n",
    "* Na fase **Transform** utilizaremos a API da OpenAI para gerar frases personalizadas sobre investimentos para cada cliente.\n",
    "\n",
    "* Depois de carregar os clientes e criar as frases personalizadas, carregaremos os dados atualizados novamente utilizando a API.\n",
    "\n"
   ]
  },
  {
   "cell_type": "markdown",
   "id": "ce2d271c-05e4-4076-a295-91c258d0d040",
   "metadata": {},
   "source": [
    "## **E**xtract"
   ]
  },
  {
   "cell_type": "markdown",
   "id": "13fc8f92-0538-408e-9b33-77f0a652ca25",
   "metadata": {},
   "source": [
    "Nessa primeira etapa, vamos extrair os dados dos cliente disponibilizados através do API criado para este estudo."
   ]
  },
  {
   "cell_type": "code",
   "execution_count": 1,
   "id": "1fcebfaf-49f8-465a-93a1-2041ebf7c826",
   "metadata": {
    "tags": []
   },
   "outputs": [],
   "source": [
    "#URL API\n",
    "sdw2023_api_url = 'https://sdw-2023-prd.up.railway.app'"
   ]
  },
  {
   "cell_type": "code",
   "execution_count": 2,
   "id": "006b6123-6cdc-4b14-a671-89796182f004",
   "metadata": {
    "tags": []
   },
   "outputs": [],
   "source": [
    "# Importação bibliotecas\n",
    "import requests\n",
    "import json\n",
    "import pandas as pd"
   ]
  },
  {
   "cell_type": "code",
   "execution_count": 3,
   "id": "f56870de-e660-4b53-9e03-5bfeae0665f0",
   "metadata": {
    "tags": []
   },
   "outputs": [
    {
     "name": "stdout",
     "output_type": "stream",
     "text": [
      "Número de registros no arquivo JSON: 541\n"
     ]
    }
   ],
   "source": [
    "#Solicitar os dados de todos os usuarios\n",
    "response = requests.get(f'{sdw2023_api_url}/users') \n",
    "\n",
    "#Verificar se a solicitação deu certo e imprimir a quantidade de registros importados\n",
    "#caso ocorra erro, retornar o código de retorno do request\n",
    "if response.status_code == 200:\n",
    "    data = response.json()\n",
    "    num_regisros = len(data)\n",
    "    print(f'Número de registros no arquivo JSON: {num_regisros}')\n",
    "else:\n",
    "    print(f'Falha na solicitação HTTP. Código de status: {response.status_code}')"
   ]
  },
  {
   "cell_type": "markdown",
   "id": "ac3e9786-1e68-4ba5-9512-99697a992d08",
   "metadata": {},
   "source": [
    "Apenas para demonstração deste projeto, vamos utilizar os cinco últimos registros do arquivo Json:"
   ]
  },
  {
   "cell_type": "code",
   "execution_count": 4,
   "id": "57c7c395-e571-448a-9a58-a9fcc7dba6d1",
   "metadata": {
    "tags": []
   },
   "outputs": [
    {
     "name": "stdout",
     "output_type": "stream",
     "text": [
      "[\n",
      "  {\n",
      "    \"id\": 611,\n",
      "    \"name\": \"fernanda\",\n",
      "    \"account\": {\n",
      "      \"id\": 622,\n",
      "      \"number\": \"000011\",\n",
      "      \"agency\": \"0001\",\n",
      "      \"balance\": 0.0,\n",
      "      \"limit\": 0.0\n",
      "    },\n",
      "    \"card\": {\n",
      "      \"id\": 585,\n",
      "      \"number\": \"0000000000001111\",\n",
      "      \"limit\": 0.0\n",
      "    },\n",
      "    \"features\": [\n",
      "      {\n",
      "        \"id\": 224,\n",
      "        \"icon\": \"string\",\n",
      "        \"description\": \"string\"\n",
      "      }\n",
      "    ],\n",
      "    \"news\": [\n",
      "      {\n",
      "        \"id\": 1819,\n",
      "        \"icon\": \"string\",\n",
      "        \"description\": \"string\"\n",
      "      }\n",
      "    ]\n",
      "  },\n",
      "  {\n",
      "    \"id\": 612,\n",
      "    \"name\": \"ana\",\n",
      "    \"account\": {\n",
      "      \"id\": 623,\n",
      "      \"number\": \"000022\",\n",
      "      \"agency\": \"0002\",\n",
      "      \"balance\": 0.0,\n",
      "      \"limit\": 0.0\n",
      "    },\n",
      "    \"card\": {\n",
      "      \"id\": 586,\n",
      "      \"number\": \"0000000000002222\",\n",
      "      \"limit\": 0.0\n",
      "    },\n",
      "    \"features\": [\n",
      "      {\n",
      "        \"id\": 225,\n",
      "        \"icon\": \"string\",\n",
      "        \"description\": \"string\"\n",
      "      }\n",
      "    ],\n",
      "    \"news\": [\n",
      "      {\n",
      "        \"id\": 1820,\n",
      "        \"icon\": \"string\",\n",
      "        \"description\": \"string\"\n",
      "      }\n",
      "    ]\n",
      "  },\n",
      "  {\n",
      "    \"id\": 613,\n",
      "    \"name\": \"carlos\",\n",
      "    \"account\": {\n",
      "      \"id\": 624,\n",
      "      \"number\": \"000033\",\n",
      "      \"agency\": \"0003\",\n",
      "      \"balance\": 0.0,\n",
      "      \"limit\": 0.0\n",
      "    },\n",
      "    \"card\": {\n",
      "      \"id\": 587,\n",
      "      \"number\": \"0000000000003333\",\n",
      "      \"limit\": 0.0\n",
      "    },\n",
      "    \"features\": [\n",
      "      {\n",
      "        \"id\": 226,\n",
      "        \"icon\": \"string\",\n",
      "        \"description\": \"string\"\n",
      "      }\n",
      "    ],\n",
      "    \"news\": [\n",
      "      {\n",
      "        \"id\": 1821,\n",
      "        \"icon\": \"string\",\n",
      "        \"description\": \"string\"\n",
      "      }\n",
      "    ]\n",
      "  }\n",
      "]\n"
     ]
    }
   ],
   "source": [
    "#Extraindo os 5 últimos registros\n",
    "three_last_records = data[-3:]\n",
    "print(json.dumps(three_last_records, indent=2))"
   ]
  },
  {
   "cell_type": "markdown",
   "id": "7aa3c985-56cf-498d-a1fc-18948d6cf276",
   "metadata": {},
   "source": [
    "## **T**ransform"
   ]
  },
  {
   "cell_type": "markdown",
   "id": "970a5f7a-aa41-4f4a-b254-0cb5f11714f3",
   "metadata": {},
   "source": [
    "Nesta etapa vamos gerar uma frase personalizada sobre investimos para cada usuário selecionado na etapa anterior.\n",
    "\n",
    "Utilizaremos a API da OpenAI para utilizar o chatGPT para gerar as frases."
   ]
  },
  {
   "cell_type": "code",
   "execution_count": 5,
   "id": "9390c75d-aac8-476a-bc63-66baa2dfe06d",
   "metadata": {
    "tags": []
   },
   "outputs": [
    {
     "name": "stdout",
     "output_type": "stream",
     "text": [
      "Requirement already satisfied: openai in c:\\anaconda3\\lib\\site-packages (0.27.9)\n",
      "Requirement already satisfied: requests>=2.20 in c:\\anaconda3\\lib\\site-packages (from openai) (2.31.0)\n",
      "Requirement already satisfied: tqdm in c:\\anaconda3\\lib\\site-packages (from openai) (4.65.0)\n",
      "Requirement already satisfied: aiohttp in c:\\anaconda3\\lib\\site-packages (from openai) (3.8.3)\n",
      "Requirement already satisfied: charset-normalizer<4,>=2 in c:\\anaconda3\\lib\\site-packages (from requests>=2.20->openai) (2.0.4)\n",
      "Requirement already satisfied: idna<4,>=2.5 in c:\\anaconda3\\lib\\site-packages (from requests>=2.20->openai) (3.4)\n",
      "Requirement already satisfied: urllib3<3,>=1.21.1 in c:\\anaconda3\\lib\\site-packages (from requests>=2.20->openai) (1.26.16)\n",
      "Requirement already satisfied: certifi>=2017.4.17 in c:\\anaconda3\\lib\\site-packages (from requests>=2.20->openai) (2023.7.22)\n",
      "Requirement already satisfied: attrs>=17.3.0 in c:\\anaconda3\\lib\\site-packages (from aiohttp->openai) (22.1.0)\n",
      "Requirement already satisfied: multidict<7.0,>=4.5 in c:\\anaconda3\\lib\\site-packages (from aiohttp->openai) (6.0.2)\n",
      "Requirement already satisfied: async-timeout<5.0,>=4.0.0a3 in c:\\anaconda3\\lib\\site-packages (from aiohttp->openai) (4.0.2)\n",
      "Requirement already satisfied: yarl<2.0,>=1.0 in c:\\anaconda3\\lib\\site-packages (from aiohttp->openai) (1.8.1)\n",
      "Requirement already satisfied: frozenlist>=1.1.1 in c:\\anaconda3\\lib\\site-packages (from aiohttp->openai) (1.3.3)\n",
      "Requirement already satisfied: aiosignal>=1.1.2 in c:\\anaconda3\\lib\\site-packages (from aiohttp->openai) (1.2.0)\n",
      "Requirement already satisfied: colorama in c:\\anaconda3\\lib\\site-packages (from tqdm->openai) (0.4.6)\n"
     ]
    }
   ],
   "source": [
    "!pip install openai"
   ]
  },
  {
   "cell_type": "code",
   "execution_count": 6,
   "id": "758f5760-b27b-483f-be47-6b0d863e8cef",
   "metadata": {
    "tags": []
   },
   "outputs": [],
   "source": [
    "#Importando OS para carregar chave da api do OPENAI salvo em variável do sistema\n",
    "import os\n",
    "import openai"
   ]
  },
  {
   "cell_type": "code",
   "execution_count": 7,
   "id": "94da795c-763b-426c-9c99-a1416c9c0756",
   "metadata": {
    "tags": []
   },
   "outputs": [],
   "source": [
    "#Carregando API KEY\n",
    "api_key = os.environ.get(\"OpenAI_Key\")\n",
    "openai.api_key = api_key"
   ]
  },
  {
   "cell_type": "code",
   "execution_count": 8,
   "id": "25f981ef-1798-4c9d-bdc1-e254f1ef43bd",
   "metadata": {
    "tags": []
   },
   "outputs": [],
   "source": [
    "#Definindo a função para geração das frases\n",
    "def generate_ai_news(user):\n",
    "    completion = openai.ChatCompletion.create(\n",
    "    model=\"gpt-3.5-turbo\",\n",
    "    messages=[\n",
    "      {\n",
    "          \"role\": \"system\",\n",
    "          \"content\": \"Você é um especialista em investimentos bancário com enfase em marketing digital.\"\n",
    "          },\n",
    "      {\n",
    "          \"role\": \"user\",\n",
    "          \"content\": f\"Crie uma mensagem para {user['name']} sobre a importância dos investimentos (máximo de 100 caracteres). Use #SantanderInvestimentos\"\n",
    "          }\n",
    "        ]\n",
    "      )\n",
    "    return completion.choices[0].message.content.strip('\\\"')"
   ]
  },
  {
   "cell_type": "code",
   "execution_count": 9,
   "id": "d759a489-480b-43d5-bd3b-734c7ca66bf8",
   "metadata": {
    "tags": []
   },
   "outputs": [
    {
     "name": "stdout",
     "output_type": "stream",
     "text": [
      "Fernanda, invista no seu futuro com segurança e rentabilidade. Conte com o #SantanderInvestimentos!\n",
      "Invista no seu futuro com #SantanderInvestimentos!\n",
      "Invista com segurança e crescimento #SantanderInvestimentos\n"
     ]
    }
   ],
   "source": [
    "for user in three_last_records:\n",
    "    news = generate_ai_news(user)\n",
    "    print(news)\n",
    "    user['news'].append({\n",
    "      \"icon\": \"https://digitalinnovationone.github.io/santander-dev-week-2023-api/icons/credit.svg\",\n",
    "      \"description\": news\n",
    "  })"
   ]
  },
  {
   "cell_type": "markdown",
   "id": "72e4cf57-0b2d-4fdb-92fd-f3389cb896a3",
   "metadata": {},
   "source": [
    "## **L**oad"
   ]
  },
  {
   "cell_type": "markdown",
   "id": "a6a9b7d0-146e-4bc6-8b84-cff9f45007c1",
   "metadata": {},
   "source": [
    "Após utilizarmos as APIs para carregar os dados e criar frases sobre investimentos utilizando o ChatGPT, esta na hora de carregar as alterações em nosso banco de dados.\n",
    "\n",
    "Para isso, utilizaremos a API para fazer um update nos usuários com nossas alterações."
   ]
  },
  {
   "cell_type": "code",
   "execution_count": 10,
   "id": "1964834c-d6d1-4b61-afa3-c007b4ff3960",
   "metadata": {
    "tags": []
   },
   "outputs": [],
   "source": [
    "#criando a função para atualizar os dados utilizando a API SDW\n",
    "def update_user(user):\n",
    "    response = requests.put(f\"{sdw2023_api_url}/users/{user['id']}\", json=user)\n",
    "    return True if response.status_code == 200 else False"
   ]
  },
  {
   "cell_type": "code",
   "execution_count": 11,
   "id": "11aacb0d-ad73-4712-998a-b99dd3a96abd",
   "metadata": {
    "tags": []
   },
   "outputs": [
    {
     "name": "stdout",
     "output_type": "stream",
     "text": [
      "Usuário fernanda atualizado com sucesso.\n",
      "Usuário ana atualizado com sucesso.\n",
      "Usuário carlos atualizado com sucesso.\n"
     ]
    }
   ],
   "source": [
    "#iterando sobre os usuários selecionados e fazendo a atualização\n",
    "for user in three_last_records:\n",
    "    response = update_user(user)\n",
    "    if response is True:\n",
    "        print(f'Usuário {user[\"name\"]} atualizado com sucesso.')\n",
    "    else:\n",
    "        print(f'Problemas ao atualizar o usuário{user[\"name\"]}')"
   ]
  },
  {
   "cell_type": "code",
   "execution_count": null,
   "id": "1c8ddb58-09d1-4db5-9f68-876969087c99",
   "metadata": {},
   "outputs": [],
   "source": []
  }
 ],
 "metadata": {
  "kernelspec": {
   "display_name": "Python 3 (ipykernel)",
   "language": "python",
   "name": "python3"
  },
  "language_info": {
   "codemirror_mode": {
    "name": "ipython",
    "version": 3
   },
   "file_extension": ".py",
   "mimetype": "text/x-python",
   "name": "python",
   "nbconvert_exporter": "python",
   "pygments_lexer": "ipython3",
   "version": "3.11.4"
  }
 },
 "nbformat": 4,
 "nbformat_minor": 5
}
